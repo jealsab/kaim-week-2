{
 "cells": [
  {
   "cell_type": "code",
   "execution_count": 1,
   "metadata": {},
   "outputs": [
    {
     "name": "stderr",
     "output_type": "stream",
     "text": [
      "c:\\Users\\HP\\Desktop\\tenx_w2\\kaim-week-2\\scripts\\loading_data.py:25: UserWarning: pandas only supports SQLAlchemy connectable (engine/connection) or database string URI or sqlite3 DBAPI2 connection. Other DBAPI2 objects are not tested. Please consider using SQLAlchemy.\n",
      "  df = pd.read_sql_query(query, connection)\n"
     ]
    },
    {
     "name": "stdout",
     "output_type": "stream",
     "text": [
      "Successfuly loaded the data\n",
      "       Bearer Id            Start  Start ms              End  End ms  \\\n",
      "11  1.311448e+19  4/15/2019 11:33     626.0  4/25/2019 18:44   542.0   \n",
      "20  1.304243e+19   4/17/2019 0:35     363.0   4/25/2019 4:52   691.0   \n",
      "68  1.304243e+19  4/21/2019 10:09       1.0   4/25/2019 1:39   272.0   \n",
      "78  1.304243e+19  4/21/2019 19:35     344.0   4/25/2019 2:59   259.0   \n",
      "84  1.304243e+19   4/22/2019 1:17     301.0   4/25/2019 1:17   938.0   \n",
      "\n",
      "    Dur. (ms)          IMSI  MSISDN/Number          IMEI Last Location Name  \\\n",
      "11   889834.0  2.082019e+14   3.366447e+10  8.600910e+13            T21335C   \n",
      "20   706649.0  2.082010e+14   3.365875e+10  8.654080e+13            T29714B   \n",
      "68   314961.0  2.082014e+14   3.366274e+10  3.528141e+13            T72937C   \n",
      "78   285833.0  2.082018e+14   3.366917e+10  3.566261e+13            L41432B   \n",
      "84   259201.0  2.082014e+14   3.366555e+10  8.637690e+13            T85779A   \n",
      "\n",
      "    ...  Youtube DL (Bytes)  Youtube UL (Bytes)  Netflix DL (Bytes)  \\\n",
      "11  ...           2805710.0          16817598.0          18094847.0   \n",
      "20  ...          15782415.0           9688165.0          18625220.0   \n",
      "68  ...          22191188.0          18851898.0          15879318.0   \n",
      "78  ...          14655680.0             26061.0           5444485.0   \n",
      "84  ...             69288.0          19177045.0          10783199.0   \n",
      "\n",
      "    Netflix UL (Bytes)  Gaming DL (Bytes)  Gaming UL (Bytes)  \\\n",
      "11           2029991.0        504604946.0          1063672.0   \n",
      "20          14679856.0        373953102.0           574875.0   \n",
      "68          10650621.0         48891264.0         13607386.0   \n",
      "78          17740302.0        164451149.0          6446720.0   \n",
      "84           8000048.0        496879416.0          1530545.0   \n",
      "\n",
      "    Other DL (Bytes)  Other UL (Bytes)  Total UL (Bytes)  Total DL (Bytes)  \n",
      "11       526987098.0        11382619.0        33691738.0       535118044.0  \n",
      "20       161357015.0          134689.0        26026033.0       422406937.0  \n",
      "68       525208955.0         6472727.0        50576233.0        93360974.0  \n",
      "78       415002189.0         4883208.0        32643783.0       193656366.0  \n",
      "84       247233250.0         1175435.0        33314765.0       519351173.0  \n",
      "\n",
      "[5 rows x 55 columns]\n"
     ]
    }
   ],
   "source": [
    "import sys\n",
    "import os\n",
    "sys.path.append(os.path.abspath(os.path.join('..', 'scripts')))\n",
    "\n",
    "from loading_data import load_data_from_postgres\n",
    "\n",
    "query = \"SELECT * FROM xdr_data\"\n",
    "df = load_data_from_postgres(query)\n",
    "\n",
    "if df is not None:\n",
    "    df=df.dropna()\n",
    "    print(\"Successfuly loaded the data\")\n",
    "    print(df.head())\n",
    "else:\n",
    "    print(\"Failed to load the data\")\n",
    "    "
   ]
  },
  {
   "cell_type": "code",
   "execution_count": 6,
   "metadata": {},
   "outputs": [
    {
     "name": "stdout",
     "output_type": "stream",
     "text": [
      "       MSISDN/Number  Average_TCP_Retransmission  Average_RTT  \\\n",
      "0       3.360101e+10                   9349630.0         86.0   \n",
      "1       3.360103e+10                   2251948.0         32.0   \n",
      "2       3.360105e+10                   7726458.0        218.0   \n",
      "3       3.360106e+10                   1831411.0         48.0   \n",
      "4       3.360108e+10                   2305944.0         39.0   \n",
      "...              ...                         ...          ...   \n",
      "13677   3.378968e+10                    459884.0         61.0   \n",
      "13678   3.378991e+10                    126155.0         56.0   \n",
      "13679   3.378992e+10                   1203027.0         78.0   \n",
      "13680   3.378994e+10                   2714043.0         39.0   \n",
      "13681   3.378998e+10                       138.0         58.0   \n",
      "\n",
      "                            Handset_Type  Average_Throughput  \n",
      "0                Apple iPhone Se (A1723)        40372.000000  \n",
      "1            Apple iPhone 8 Plus (A1897)        34682.000000  \n",
      "2       Samsung Galaxy Note 8 (Sm-N950F)        51392.000000  \n",
      "3           Samsung Galaxy S8 (Sm-G950F)        42192.000000  \n",
      "4                Apple iPhone Xs (A2097)        66907.000000  \n",
      "...                                  ...                 ...  \n",
      "13677     Huawei P20 Lite Huawei Nova 3E         9896.000000  \n",
      "13678  Samsung Galaxy S9 Plus (Sm-G965F)        43852.000000  \n",
      "13679  Samsung Galaxy S7 Edge (Sm-G935X)        37357.000000  \n",
      "13680      Samsung Galaxy S9 Sm-G960F Ds        46755.562362  \n",
      "13681                          undefined        48858.641531  \n",
      "\n",
      "[13682 rows x 5 columns]\n"
     ]
    }
   ],
   "source": [
    "from aggregate_customer import aggregate_customer_data\n",
    "aggregate_data = aggregate_customer_data(df)\n",
    "print(aggregate_data)"
   ]
  },
  {
   "cell_type": "code",
   "execution_count": 9,
   "metadata": {},
   "outputs": [
    {
     "name": "stdout",
     "output_type": "stream",
     "text": [
      "\n",
      "Column: TCP DL Retrans. Vol (Bytes)\n",
      "Top 10 values: [190690034.0, 190690034.0, 190690034.0, 190690034.0, 190690034.0, 190690034.0, 190690034.0, 190690034.0, 190690034.0, 190081386.0]\n",
      "Bottom 10 values: [35.0, 35.0, 35.0, 35.0, 35.0, 35.0, 35.0, 35.0, 35.0, 38.0]\n",
      "Most frequent 10 values: [17260365.320501987, 41268977.656566806, 2660.0, 1330.0, 38.0, 92.0, 76.0, 543.0, 46.0, 276.0]\n",
      "\n",
      "Column: Avg RTT DL (ms)\n",
      "Top 10 values: [310.0, 310.0, 310.0, 310.0, 310.0, 310.0, 310.0, 310.0, 310.0, 309.0]\n",
      "Bottom 10 values: [17.0, 17.0, 17.0, 17.0, 17.0, 17.0, 17.0, 17.0, 17.0, 18.0]\n",
      "Most frequent 10 values: [85.93413544364982, 52.0, 49.0, 44.0, 53.0, 57.0, 61.0, 50.0, 46.0, 60.0]\n",
      "\n",
      "Column: Avg Bearer TP DL (kbps)\n",
      "Top 10 values: [121275.0, 121275.0, 121275.0, 121275.0, 121275.0, 121275.0, 121275.0, 121275.0, 121275.0, 121228.0]\n",
      "Bottom 10 values: [5242.0, 5242.0, 5242.0, 5242.0, 5242.0, 5242.0, 5242.0, 5242.0, 5242.0, 5254.0]\n",
      "Most frequent 10 values: [48858.64153092607, 46755.562361886, 39981.0, 21419.0, 44955.0, 25120.0, 26401.0, 49520.0, 17448.0, 21512.0]\n"
     ]
    }
   ],
   "source": [
    "from analyze_top_bottom_frequent import analyze_columns\n",
    "\n",
    "# Define columns to analyze\n",
    "columns_to_analyze = ['TCP DL Retrans. Vol (Bytes)', 'Avg RTT DL (ms)', 'Avg Bearer TP DL (kbps)']\n",
    "\n",
    "# Call the analysis function\n",
    "analyze_columns(df, columns_to_analyze)\n"
   ]
  },
  {
   "cell_type": "code",
   "execution_count": 8,
   "metadata": {},
   "outputs": [
    {
     "name": "stdout",
     "output_type": "stream",
     "text": [
      "\n",
      "Distribution of Average Throughput per Handset Type:\n",
      "Handset Type\n",
      "Apple iPad Pro 10.5 (A1709)            107836.0\n",
      "Xiaomi Communica. Redmi 5Plus           94048.0\n",
      "Google Inc G011C                        89401.0\n",
      "Huawei Cor-L29                          85244.0\n",
      "Apple iPad Mini (A1490)                 85173.0\n",
      "                                         ...   \n",
      "Asustek Asus Za550Kl Zenfone Max M1      7523.0\n",
      "Archos Sa Archos 60 Platinum             7500.0\n",
      "Wiko Global Sasu Wiko Sunny2 Plus        6782.0\n",
      "Wiko Global Sasu Wiko Harry              6225.0\n",
      "Wiko Global Sasu Wiko Pulp Fab 4G        5841.0\n",
      "Name: Avg Bearer TP DL (kbps), Length: 347, dtype: float64\n",
      "\n",
      "Average TCP Retransmission Volume per Handset Type:\n",
      "Handset Type\n",
      "Apple iPhone Xs Max (A1921)                   131173745.0\n",
      "Samsung Galaxy J8 2018                        115752646.0\n",
      "Huawei E587 E587U-2 Turkcell Vinnwifi E587     62432994.0\n",
      "Huawei Hma-L29                                 59275360.0\n",
      "Zyxel Communicat. Sbg3600                      50200837.0\n",
      "                                                 ...     \n",
      "Asustek Asus Zenfone2 Laser Ze601Kl                1378.0\n",
      "Wiko Global Sasu Wiko Pulp Fab 4G                  1318.0\n",
      "Huawei Ascend Mate7                                1047.0\n",
      "Wiko Global Sasu Wiko View Prime                    519.0\n",
      "Huawei Y5Ii                                          76.0\n",
      "Name: TCP DL Retrans. Vol (Bytes), Length: 347, dtype: float64\n"
     ]
    }
   ],
   "source": [
    "# Importing the function\n",
    "from adv_handset_analysis import analyze_handset_metrics, report_analysis_results\n",
    "\n",
    "# Perform analysis\n",
    "analysis_results = analyze_handset_metrics(df)\n",
    "\n",
    "# Report results\n",
    "report_analysis_results(analysis_results)"
   ]
  },
  {
   "cell_type": "code",
   "execution_count": 10,
   "metadata": {},
   "outputs": [
    {
     "name": "stdout",
     "output_type": "stream",
     "text": [
      "Cluster Descriptions:\n",
      "\n",
      "Cluster 0:\n",
      "- Avg Bearer TP DL (kbps): 65499.65\n",
      "- TCP DL Retrans. Vol (Bytes): 6761120.63\n",
      "- Avg RTT DL (ms): 55.03\n",
      "\n",
      "Cluster 1:\n",
      "- Avg Bearer TP DL (kbps): 50782.75\n",
      "- TCP DL Retrans. Vol (Bytes): 85585393.21\n",
      "- Avg RTT DL (ms): 111.26\n",
      "\n",
      "Cluster 2:\n",
      "- Avg Bearer TP DL (kbps): 30039.68\n",
      "- TCP DL Retrans. Vol (Bytes): 6406723.90\n",
      "- Avg RTT DL (ms): 91.35\n"
     ]
    }
   ],
   "source": [
    "# Importing the function\n",
    "from cluster_user_experiences import perform_kmeans_clustering, describe_clusters_and_display\n",
    "\n",
    "# Define features to use for clustering\n",
    "experience_metrics = ['Avg Bearer TP DL (kbps)', 'TCP DL Retrans. Vol (Bytes)', 'Avg RTT DL (ms)']\n",
    "\n",
    "# Perform clustering\n",
    "df_clustered, kmeans_model = perform_kmeans_clustering(df, experience_metrics, k=3)\n",
    "\n",
    "# Describe clusters and display results\n",
    "cluster_descriptions = describe_clusters_and_display(df_clustered, 'Cluster', experience_metrics)"
   ]
  }
 ],
 "metadata": {
  "kernelspec": {
   "display_name": "Python 3",
   "language": "python",
   "name": "python3"
  },
  "language_info": {
   "codemirror_mode": {
    "name": "ipython",
    "version": 3
   },
   "file_extension": ".py",
   "mimetype": "text/x-python",
   "name": "python",
   "nbconvert_exporter": "python",
   "pygments_lexer": "ipython3",
   "version": "3.11.0"
  }
 },
 "nbformat": 4,
 "nbformat_minor": 2
}
