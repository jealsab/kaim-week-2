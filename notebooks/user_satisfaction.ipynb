{
 "cells": [
  {
   "cell_type": "code",
   "execution_count": 8,
   "metadata": {},
   "outputs": [
    {
     "name": "stderr",
     "output_type": "stream",
     "text": [
      "c:\\Users\\HP\\Desktop\\tenx_w2\\kaim-week-2\\scripts\\loading_data.py:25: UserWarning: pandas only supports SQLAlchemy connectable (engine/connection) or database string URI or sqlite3 DBAPI2 connection. Other DBAPI2 objects are not tested. Please consider using SQLAlchemy.\n",
      "  df = pd.read_sql_query(query, connection)\n"
     ]
    },
    {
     "name": "stdout",
     "output_type": "stream",
     "text": [
      "Successfuly loaded the data\n",
      "       Bearer Id            Start  Start ms              End  End ms  \\\n",
      "11  1.311448e+19  4/15/2019 11:33     626.0  4/25/2019 18:44   542.0   \n",
      "20  1.304243e+19   4/17/2019 0:35     363.0   4/25/2019 4:52   691.0   \n",
      "68  1.304243e+19  4/21/2019 10:09       1.0   4/25/2019 1:39   272.0   \n",
      "78  1.304243e+19  4/21/2019 19:35     344.0   4/25/2019 2:59   259.0   \n",
      "84  1.304243e+19   4/22/2019 1:17     301.0   4/25/2019 1:17   938.0   \n",
      "\n",
      "    Dur. (ms)          IMSI  MSISDN/Number          IMEI Last Location Name  \\\n",
      "11   889834.0  2.082019e+14   3.366447e+10  8.600910e+13            T21335C   \n",
      "20   706649.0  2.082010e+14   3.365875e+10  8.654080e+13            T29714B   \n",
      "68   314961.0  2.082014e+14   3.366274e+10  3.528141e+13            T72937C   \n",
      "78   285833.0  2.082018e+14   3.366917e+10  3.566261e+13            L41432B   \n",
      "84   259201.0  2.082014e+14   3.366555e+10  8.637690e+13            T85779A   \n",
      "\n",
      "    ...  Youtube DL (Bytes)  Youtube UL (Bytes)  Netflix DL (Bytes)  \\\n",
      "11  ...           2805710.0          16817598.0          18094847.0   \n",
      "20  ...          15782415.0           9688165.0          18625220.0   \n",
      "68  ...          22191188.0          18851898.0          15879318.0   \n",
      "78  ...          14655680.0             26061.0           5444485.0   \n",
      "84  ...             69288.0          19177045.0          10783199.0   \n",
      "\n",
      "    Netflix UL (Bytes)  Gaming DL (Bytes)  Gaming UL (Bytes)  \\\n",
      "11           2029991.0        504604946.0          1063672.0   \n",
      "20          14679856.0        373953102.0           574875.0   \n",
      "68          10650621.0         48891264.0         13607386.0   \n",
      "78          17740302.0        164451149.0          6446720.0   \n",
      "84           8000048.0        496879416.0          1530545.0   \n",
      "\n",
      "    Other DL (Bytes)  Other UL (Bytes)  Total UL (Bytes)  Total DL (Bytes)  \n",
      "11       526987098.0        11382619.0        33691738.0       535118044.0  \n",
      "20       161357015.0          134689.0        26026033.0       422406937.0  \n",
      "68       525208955.0         6472727.0        50576233.0        93360974.0  \n",
      "78       415002189.0         4883208.0        32643783.0       193656366.0  \n",
      "84       247233250.0         1175435.0        33314765.0       519351173.0  \n",
      "\n",
      "[5 rows x 55 columns]\n"
     ]
    }
   ],
   "source": [
    "import sys\n",
    "import os\n",
    "sys.path.append(os.path.abspath(os.path.join('..', 'scripts')))\n",
    "\n",
    "from loading_data import load_data_from_postgres\n",
    "\n",
    "query = \"SELECT * FROM xdr_data\"\n",
    "df = load_data_from_postgres(query)\n",
    "\n",
    "if df is not None:\n",
    "    df=df.dropna()\n",
    "    print(\"Successfuly loaded the data\")\n",
    "    print(df.head())\n",
    "else:\n",
    "    print(\"Failed to load the data\")\n",
    "   "
   ]
  },
  {
   "cell_type": "code",
   "execution_count": 23,
   "metadata": {},
   "outputs": [
    {
     "name": "stdout",
     "output_type": "stream",
     "text": [
      "Top 10 satisfied users:\n",
      "         Satisfaction Score  Engagement Score  Experience Score\n",
      "97489             40.028361          1.554352         78.502371\n",
      "247531            40.028361          1.554352         78.502371\n",
      "397523            40.028361          1.554352         78.502371\n",
      "547524            40.028361          1.554352         78.502371\n",
      "697513            40.028361          1.554352         78.502371\n",
      "847511            40.028361          1.554352         78.502371\n",
      "997506            40.028361          1.554352         78.502371\n",
      "1147500           40.028361          1.554352         78.502371\n",
      "1297501           40.028361          1.554352         78.502371\n",
      "43638             26.011037          2.253119         49.768955\n",
      "Scores have been calculated successfully!\n",
      "    Engagement Score  Experience Score\n",
      "11         17.992852          2.514943\n",
      "20         13.960509          2.796272\n",
      "68          5.280759          3.923513\n",
      "78          4.604170          0.205392\n",
      "84          4.163858          2.471138\n"
     ]
    }
   ],
   "source": [
    "from satisfaction import calculate_satisfaction_scores\n",
    "calculate_satisfaction_scores(df)"
   ]
  },
  {
   "cell_type": "code",
   "execution_count": 22,
   "metadata": {},
   "outputs": [
    {
     "name": "stdout",
     "output_type": "stream",
     "text": [
      "Model Evaluation:\n",
      "Mean Absolute Error (MAE): 2.154428966961002e-15\n",
      "Mean Squared Error (MSE): 1.388498955140321e-29\n",
      "R-squared (R2): 1.0\n",
      "\n",
      "Sample Predicted vs Actual Satisfaction Scores:\n",
      "           Actual  Predicted\n",
      "602688   2.061999   2.061999\n",
      "69149    1.490319   1.490319\n",
      "1243983  1.276807   1.276807\n",
      "324762   2.436773   2.436773\n",
      "421727   2.065935   2.065935\n"
     ]
    }
   ],
   "source": [
    "from predict_satisfaction import calc_predict_satisfaction\n",
    "calc_predict_satisfaction(df)"
   ]
  },
  {
   "cell_type": "code",
   "execution_count": null,
   "metadata": {},
   "outputs": [
    {
     "name": "stdout",
     "output_type": "stream",
     "text": [
      "Clusters have been assigned successfully!\n",
      "    Engagement Score  Experience Score  Cluster Label\n",
      "11         17.992852          2.514943              0\n",
      "20         13.960509          2.796272              0\n",
      "68          5.280759          3.923513              0\n",
      "78          4.604170          0.205392              0\n",
      "84          4.163858          2.471138              0\n"
     ]
    }
   ],
   "source": [
    "from engagement_experience_cl import eng_exp_cl\n",
    "eng_exp_cl(df)"
   ]
  },
  {
   "cell_type": "code",
   "execution_count": 21,
   "metadata": {},
   "outputs": [
    {
     "name": "stdout",
     "output_type": "stream",
     "text": [
      "Aggregated average scores per cluster:\n",
      "               Satisfaction Score  Experience Score\n",
      "Cluster Label                                      \n",
      "0                        2.123722          2.567690\n",
      "1                       28.475736         55.145981\n"
     ]
    }
   ],
   "source": [
    "from cluster_aggregate import aggregation\n",
    "aggregation(df)"
   ]
  },
  {
   "cell_type": "code",
   "execution_count": 20,
   "metadata": {},
   "outputs": [
    {
     "name": "stdout",
     "output_type": "stream",
     "text": [
      "Data has been successfully exported to the PostgreSQL database!\n"
     ]
    }
   ],
   "source": [
    "import pandas as pd\n",
    "from sqlalchemy import create_engine\n",
    "from dotenv import load_dotenv\n",
    "import os\n",
    "\n",
    "# Load environment variables from .env file\n",
    "load_dotenv()\n",
    "\n",
    "# Retrieve the DATABASE_URL from the .env file\n",
    "connection_string = os.getenv(\"DATABASE_URL\")\n",
    "\n",
    "# Assuming your DataFrame 'df' already contains the necessary data\n",
    "# Ensure the column names are properly assigned\n",
    "final_df = df[[\"MSISDN/Number\", \"Engagement Score\", \"Experience Score\", \"Satisfaction Score\"]]\n",
    "\n",
    "# Create a connection to the PostgreSQL database\n",
    "engine = create_engine(connection_string)\n",
    "\n",
    "# Export the DataFrame to PostgreSQL (assuming table name is 'user_scores')\n",
    "final_df.to_sql('user_scores', con=engine, index=False, if_exists='replace')\n",
    "\n",
    "print(\"Data has been successfully exported to the PostgreSQL database!\")\n"
   ]
  }
 ],
 "metadata": {
  "kernelspec": {
   "display_name": "Python 3",
   "language": "python",
   "name": "python3"
  },
  "language_info": {
   "codemirror_mode": {
    "name": "ipython",
    "version": 3
   },
   "file_extension": ".py",
   "mimetype": "text/x-python",
   "name": "python",
   "nbconvert_exporter": "python",
   "pygments_lexer": "ipython3",
   "version": "3.11.0"
  }
 },
 "nbformat": 4,
 "nbformat_minor": 2
}
